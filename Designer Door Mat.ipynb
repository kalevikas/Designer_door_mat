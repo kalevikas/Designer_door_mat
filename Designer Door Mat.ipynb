{
 "cells": [
  {
   "cell_type": "markdown",
   "id": "73501743",
   "metadata": {},
   "source": [
    "- Mr. Vincent works in a door mat manufacturing company. One day, he designed a new door mat with the following specifications:\n",
    "\n",
    "- Mat size must be N X.M ( is an odd natural number, and M is 3 times N.)\n",
    "- The design should have 'WELCOME' written in the center.\n",
    "- The design pattern should only use |, . and - characters.\n",
    "\n",
    "\n",
    "- The design should have 'WELCOME' written in the center.\n",
    "- The design pattern should only use |, . and - characters."
   ]
  },
  {
   "cell_type": "code",
   "execution_count": null,
   "id": "38e4e8ce",
   "metadata": {},
   "outputs": [],
   "source": [
    "    Size: 7 x 21 \n",
    "    ---------.|.---------\n",
    "    ------.|..|..|.------\n",
    "    ---.|..|..|..|..|.---\n",
    "    -------WELCOME-------\n",
    "    ---.|..|..|..|..|.---\n",
    "    ------.|..|..|.------\n",
    "    ---------.|.---------\n",
    "    \n",
    "    Size: 9 x 27\n",
    "    \n",
    "    ------------.|.------------\n",
    "    ---------.|..|..|.---------\n",
    "    ------.|..|..|..|..|.------\n",
    "    ---.|..|..|..|..|..|..|.---\n",
    "    ----------WELCOME----------\n",
    "    ---.|..|..|..|..|..|..|.---\n",
    "    ------.|..|..|..|..|.------\n",
    "    ---------.|..|..|.---------\n",
    "    ------------.|.------------"
   ]
  },
  {
   "cell_type": "markdown",
   "id": "d89bf9a9",
   "metadata": {},
   "source": [
    "# Method:1"
   ]
  },
  {
   "cell_type": "markdown",
   "id": "090d14e0",
   "metadata": {},
   "source": [
    "#### Upper part"
   ]
  },
  {
   "cell_type": "code",
   "execution_count": 27,
   "id": "707fbcec",
   "metadata": {},
   "outputs": [
    {
     "name": "stdout",
     "output_type": "stream",
     "text": [
      "9 27\n",
      "------------.|.------------\n",
      "---------.|..|..|.---------\n",
      "------.|..|..|..|..|.------\n",
      "---.|..|..|..|..|..|..|.---\n",
      "----------WELCOME----------\n"
     ]
    }
   ],
   "source": [
    "n,m=map(int,input().split())\n",
    "s1='.|.'\n",
    "s2='WELCOME'\n",
    "# part1:Upper\n",
    "\n",
    "for i in range(n//2):\n",
    "    print((s1*((i*2)+1)).center(m,\"-\"))\n",
    "print(s2.center(m,\"-\"))\n",
    "    \n"
   ]
  },
  {
   "cell_type": "markdown",
   "id": "dbcec5ca",
   "metadata": {},
   "source": [
    "#### lower part"
   ]
  },
  {
   "cell_type": "code",
   "execution_count": 30,
   "id": "802b19cd",
   "metadata": {},
   "outputs": [
    {
     "name": "stdout",
     "output_type": "stream",
     "text": [
      "9 27\n",
      "---.|..|..|..|..|..|..|.---\n",
      "------.|..|..|..|..|.------\n",
      "---------.|..|..|.---------\n",
      "------------.|.------------\n"
     ]
    }
   ],
   "source": [
    "n,m=map(int,input().split())\n",
    "s1='.|.'\n",
    "s2='WELCOME'\n",
    "# part1:Upper\n",
    "\n",
    "# for i in range(n//2):\n",
    "#     print((s1*((i*2)+1)).center(m,\"-\"))\n",
    "# print(s2.center(m,\"-\"))\n",
    "for i in range(n//2-1,-1,-1):\n",
    "    print((s1*((i*2)+1)).center(m,\"-\"))\n",
    "    "
   ]
  },
  {
   "cell_type": "code",
   "execution_count": 31,
   "id": "2de32a26",
   "metadata": {},
   "outputs": [
    {
     "name": "stdout",
     "output_type": "stream",
     "text": [
      "9 27\n",
      "------------.|.------------\n",
      "---------.|..|..|.---------\n",
      "------.|..|..|..|..|.------\n",
      "---.|..|..|..|..|..|..|.---\n",
      "----------WELCOME----------\n",
      "---.|..|..|..|..|..|..|.---\n",
      "------.|..|..|..|..|.------\n",
      "---------.|..|..|.---------\n",
      "------------.|.------------\n"
     ]
    }
   ],
   "source": [
    "n,m=map(int,input().split())\n",
    "s1='.|.'\n",
    "s2='WELCOME'\n",
    "# part1:Upper\n",
    "\n",
    "for i in range(n//2):\n",
    "    print((s1*((i*2)+1)).center(m,\"-\"))\n",
    "print(s2.center(m,\"-\"))\n",
    "\n",
    "for i in range(n//2-1,-1,-1):\n",
    "    print((s1*((i*2)+1)).center(m,\"-\"))"
   ]
  },
  {
   "cell_type": "code",
   "execution_count": null,
   "id": "11019152",
   "metadata": {},
   "outputs": [],
   "source": []
  },
  {
   "cell_type": "markdown",
   "id": "57da86e7",
   "metadata": {},
   "source": [
    "# Method:2"
   ]
  },
  {
   "cell_type": "code",
   "execution_count": 19,
   "id": "9d7a3bd7",
   "metadata": {},
   "outputs": [
    {
     "name": "stdout",
     "output_type": "stream",
     "text": [
      "9 27\n",
      "------------.|.------------\n",
      "---------.|..|..|.---------\n",
      "------.|..|..|..|..|.------\n",
      "---.|..|..|..|..|..|..|.---\n",
      "----------WELCOME----------\n",
      "---.|..|..|..|..|..|..|.---\n",
      "------.|..|..|..|..|.------\n",
      "---------.|..|..|.---------\n",
      "------------.|.------------\n"
     ]
    }
   ],
   "source": [
    "n, m = map(int,input().split())\n",
    "pattern = [('.|.'*(2*i + 1)).center(m, '-') for i in range(n//2)]\n",
    "print('\\n'.join(pattern + ['WELCOME'.center(m, '-')] + pattern[::-1]))\n"
   ]
  },
  {
   "cell_type": "code",
   "execution_count": 13,
   "id": "fc1b58af",
   "metadata": {},
   "outputs": [
    {
     "name": "stdout",
     "output_type": "stream",
     "text": [
      "9 27\n",
      "------------.|.------------\n",
      "---------.|..|..|.---------\n",
      "------.|..|..|..|..|.------\n",
      "---.|..|..|..|..|..|..|.---\n",
      "----------WELCOME----------\n",
      "---.|..|..|..|..|..|..|.---\n",
      "------.|..|..|..|..|.------\n",
      "---------.|..|..|.---------\n",
      "------------.|.------------\n"
     ]
    }
   ],
   "source": [
    "x,y = map(int,input().split())\n",
    "items = list(range(1,x+1,2))\n",
    "items = items+items[::-1][1:]\n",
    "for i in items:\n",
    "    text= \"WELCOME\" if i == x else '.|.'*i\n",
    "    print (text.center(y,'-'))"
   ]
  },
  {
   "cell_type": "code",
   "execution_count": 14,
   "id": "894a17c0",
   "metadata": {},
   "outputs": [
    {
     "name": "stdout",
     "output_type": "stream",
     "text": [
      "9 27\n",
      "------------.|.------------\n",
      "---------.|..|..|.---------\n",
      "------.|..|..|..|..|.------\n",
      "---.|..|..|..|..|..|..|.---\n",
      "----------WELCOME----------\n",
      "---.|..|..|..|..|..|..|.---\n",
      "------.|..|..|..|..|.------\n",
      "---------.|..|..|.---------\n",
      "------------.|.------------\n"
     ]
    }
   ],
   "source": [
    "N, M = map(int, input().split()) \n",
    "for i in range(1,N,2): \n",
    "    print((i*'.|.').center(M,'-'))\n",
    "print('WELCOME'.center(M,'-')) \n",
    "for i in range(N-2,-1,-2): \n",
    "    print((i*'.|.').center(M, '-'))"
   ]
  },
  {
   "cell_type": "code",
   "execution_count": null,
   "id": "58f4073d",
   "metadata": {},
   "outputs": [],
   "source": []
  }
 ],
 "metadata": {
  "kernelspec": {
   "display_name": "Python 3",
   "language": "python",
   "name": "python3"
  },
  "language_info": {
   "codemirror_mode": {
    "name": "ipython",
    "version": 3
   },
   "file_extension": ".py",
   "mimetype": "text/x-python",
   "name": "python",
   "nbconvert_exporter": "python",
   "pygments_lexer": "ipython3",
   "version": "3.8.8"
  }
 },
 "nbformat": 4,
 "nbformat_minor": 5
}
